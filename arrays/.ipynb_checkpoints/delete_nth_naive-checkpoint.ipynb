{
 "cells": [
  {
   "cell_type": "code",
   "execution_count": 42,
   "metadata": {},
   "outputs": [],
   "source": [
    "#For example if N = 2, and the input is [1,2,3,1,2,1,2,3], you take [1,2,3,1,2,3] \n",
    "# Time complexity O(n^2)\n",
    "def delete_nth_naive(array,n):\n",
    "    #array.sort()\n",
    "    res = []\n",
    "    cnt = 0\n",
    "    for i in range(0,len(array)):\n",
    "        #print(array[i],i)\n",
    "        if i == 0:\n",
    "            res.append(array[i])\n",
    "        elif array[i] in res and cnt < n:\n",
    "            cnt+=1\n",
    "            #print('in loop')\n",
    "            res.append(array[i])\n",
    "            #print(res)\n",
    "        elif array[i] not in res:\n",
    "            cnt = 0\n",
    "            res.append(array[i])\n",
    "            #cnt+=1\n",
    "    return res"
   ]
  },
  {
   "cell_type": "code",
   "execution_count": 43,
   "metadata": {},
   "outputs": [
    {
     "data": {
      "text/plain": [
       "[1, 2, 3, 1, 2]"
      ]
     },
     "execution_count": 43,
     "metadata": {},
     "output_type": "execute_result"
    }
   ],
   "source": [
    "array = [1,2,3,1,2,1,2,3]\n",
    "n = 2\n",
    "delete_nth_naive(array,n)"
   ]
  },
  {
   "cell_type": "code",
   "execution_count": 44,
   "metadata": {},
   "outputs": [],
   "source": [
    "#Actual solution\n",
    "def delete_nth_naive(array, n):\n",
    "    ans = []\n",
    "    for num in array:\n",
    "        if ans.count(num) < n:\n",
    "            ans.append(num)\n",
    "    return ans"
   ]
  },
  {
   "cell_type": "code",
   "execution_count": 45,
   "metadata": {},
   "outputs": [
    {
     "data": {
      "text/plain": [
       "[1, 2, 3, 1, 2, 3]"
      ]
     },
     "execution_count": 45,
     "metadata": {},
     "output_type": "execute_result"
    }
   ],
   "source": [
    "array = [1,2,3,1,2,1,2,3]\n",
    "n = 2\n",
    "delete_nth_naive(array,n)"
   ]
  },
  {
   "cell_type": "code",
   "execution_count": null,
   "metadata": {},
   "outputs": [],
   "source": []
  }
 ],
 "metadata": {
  "kernelspec": {
   "display_name": "Python 3",
   "language": "python",
   "name": "python3"
  },
  "language_info": {
   "codemirror_mode": {
    "name": "ipython",
    "version": 3
   },
   "file_extension": ".py",
   "mimetype": "text/x-python",
   "name": "python",
   "nbconvert_exporter": "python",
   "pygments_lexer": "ipython3",
   "version": "3.7.4"
  }
 },
 "nbformat": 4,
 "nbformat_minor": 2
}
